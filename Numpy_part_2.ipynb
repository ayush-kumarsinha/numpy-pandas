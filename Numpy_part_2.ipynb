{
  "nbformat": 4,
  "nbformat_minor": 0,
  "metadata": {
    "colab": {
      "provenance": [],
      "authorship_tag": "ABX9TyNM006S/VGc/wKKaHLHzSlh",
      "include_colab_link": true
    },
    "kernelspec": {
      "name": "python3",
      "display_name": "Python 3"
    },
    "language_info": {
      "name": "python"
    }
  },
  "cells": [
    {
      "cell_type": "markdown",
      "metadata": {
        "id": "view-in-github",
        "colab_type": "text"
      },
      "source": [
        "<a href=\"https://colab.research.google.com/github/ayush-kumarsinha/numpy-pandas/blob/main/Numpy_part_2.ipynb\" target=\"_parent\"><img src=\"https://colab.research.google.com/assets/colab-badge.svg\" alt=\"Open In Colab\"/></a>"
      ]
    },
    {
      "cell_type": "code",
      "execution_count": null,
      "metadata": {
        "id": "GqBAExKXD_XL"
      },
      "outputs": [],
      "source": []
    },
    {
      "cell_type": "markdown",
      "source": [
        "# Numpy - array Manipulation"
      ],
      "metadata": {
        "id": "CMkPMGRDFmXX"
      }
    },
    {
      "cell_type": "code",
      "source": [
        "import numpy as np"
      ],
      "metadata": {
        "id": "FMGBXurvF62I"
      },
      "execution_count": 2,
      "outputs": []
    },
    {
      "cell_type": "code",
      "source": [
        "arr = np.random.randint(1,10,(3,4))  # (3,4) is a dimension isko dusra dimension me convert karna hai"
      ],
      "metadata": {
        "id": "SKyv4aFoF7DC"
      },
      "execution_count": 3,
      "outputs": []
    },
    {
      "cell_type": "code",
      "source": [],
      "metadata": {
        "id": "cdW5SiSVGIy7"
      },
      "execution_count": null,
      "outputs": []
    },
    {
      "cell_type": "code",
      "source": [
        "arr"
      ],
      "metadata": {
        "colab": {
          "base_uri": "https://localhost:8080/"
        },
        "id": "sxpw5PlAF7E9",
        "outputId": "f6d1c490-35da-4fec-dbc8-dbe6b336b0bc"
      },
      "execution_count": 4,
      "outputs": [
        {
          "output_type": "execute_result",
          "data": {
            "text/plain": [
              "array([[4, 9, 4, 4],\n",
              "       [5, 1, 3, 9],\n",
              "       [2, 1, 1, 8]])"
            ]
          },
          "metadata": {},
          "execution_count": 4
        }
      ]
    },
    {
      "cell_type": "code",
      "source": [
        "arr.reshape(6,2)"
      ],
      "metadata": {
        "colab": {
          "base_uri": "https://localhost:8080/"
        },
        "id": "uIzYvYezF7G7",
        "outputId": "86cc104b-c5f7-4a1c-9b3b-a65312d48cfa"
      },
      "execution_count": 5,
      "outputs": [
        {
          "output_type": "execute_result",
          "data": {
            "text/plain": [
              "array([[4, 9],\n",
              "       [4, 4],\n",
              "       [5, 1],\n",
              "       [3, 9],\n",
              "       [2, 1],\n",
              "       [1, 8]])"
            ]
          },
          "metadata": {},
          "execution_count": 5
        }
      ]
    },
    {
      "cell_type": "code",
      "source": [
        "arr.reshape(2,6)"
      ],
      "metadata": {
        "colab": {
          "base_uri": "https://localhost:8080/"
        },
        "id": "_lek-YiHF7JE",
        "outputId": "616b7373-b51f-4a99-af9c-46efe3e26372"
      },
      "execution_count": 6,
      "outputs": [
        {
          "output_type": "execute_result",
          "data": {
            "text/plain": [
              "array([[4, 9, 4, 4, 5, 1],\n",
              "       [3, 9, 2, 1, 1, 8]])"
            ]
          },
          "metadata": {},
          "execution_count": 6
        }
      ]
    },
    {
      "cell_type": "code",
      "source": [
        "arr.reshape(2,-242342)"
      ],
      "metadata": {
        "colab": {
          "base_uri": "https://localhost:8080/"
        },
        "id": "t7SoJpOAF7K-",
        "outputId": "67b16ae5-5c00-4c02-e77f-1f904e593e60"
      },
      "execution_count": 7,
      "outputs": [
        {
          "output_type": "execute_result",
          "data": {
            "text/plain": [
              "array([[4, 9, 4, 4, 5, 1],\n",
              "       [3, 9, 2, 1, 1, 8]])"
            ]
          },
          "metadata": {},
          "execution_count": 7
        }
      ]
    },
    {
      "cell_type": "code",
      "source": [
        "arr.T  # T jo hai array ko rocate kar deta hai"
      ],
      "metadata": {
        "colab": {
          "base_uri": "https://localhost:8080/"
        },
        "id": "WG7mk6_SF7M-",
        "outputId": "9b71d7d5-545c-4a17-ca71-276b8877941a"
      },
      "execution_count": 8,
      "outputs": [
        {
          "output_type": "execute_result",
          "data": {
            "text/plain": [
              "array([[4, 5, 2],\n",
              "       [9, 1, 1],\n",
              "       [4, 3, 1],\n",
              "       [4, 9, 8]])"
            ]
          },
          "metadata": {},
          "execution_count": 8
        }
      ]
    },
    {
      "cell_type": "code",
      "source": [
        "arr"
      ],
      "metadata": {
        "colab": {
          "base_uri": "https://localhost:8080/"
        },
        "id": "I1O5jCJmF7PD",
        "outputId": "f904e41b-9cd2-4e27-cf90-9296e1d91320"
      },
      "execution_count": 9,
      "outputs": [
        {
          "output_type": "execute_result",
          "data": {
            "text/plain": [
              "array([[4, 9, 4, 4],\n",
              "       [5, 1, 3, 9],\n",
              "       [2, 1, 1, 8]])"
            ]
          },
          "metadata": {},
          "execution_count": 9
        }
      ]
    },
    {
      "cell_type": "code",
      "source": [
        "arr.flatten()  #  flatten array ko one dimension me convert kar deta hai"
      ],
      "metadata": {
        "id": "G9u7x79FF7RC"
      },
      "execution_count": null,
      "outputs": []
    },
    {
      "cell_type": "code",
      "source": [
        "arr1 = np.array([1,2,3,3,4])"
      ],
      "metadata": {
        "id": "YUcDi8AbF7UP"
      },
      "execution_count": 10,
      "outputs": []
    },
    {
      "cell_type": "code",
      "source": [
        "arr1.ndim"
      ],
      "metadata": {
        "colab": {
          "base_uri": "https://localhost:8080/"
        },
        "id": "eq9Jn3LTHIJM",
        "outputId": "881fb9bb-d43d-4e3e-d0e3-92ffd32838dd"
      },
      "execution_count": 11,
      "outputs": [
        {
          "output_type": "execute_result",
          "data": {
            "text/plain": [
              "1"
            ]
          },
          "metadata": {},
          "execution_count": 11
        }
      ]
    },
    {
      "cell_type": "code",
      "source": [
        "np.expand_dims(arr1,axis=1)  # expend 1 dimension ko 2 dimension me convert karta hai , axis ka matlab hai ki wo one column me devide karta hai"
      ],
      "metadata": {
        "colab": {
          "base_uri": "https://localhost:8080/"
        },
        "id": "VauiHtyyHKBj",
        "outputId": "765f2254-abba-450c-b3d4-f2e4b441ae8f"
      },
      "execution_count": 12,
      "outputs": [
        {
          "output_type": "execute_result",
          "data": {
            "text/plain": [
              "array([[1],\n",
              "       [2],\n",
              "       [3],\n",
              "       [3],\n",
              "       [4]])"
            ]
          },
          "metadata": {},
          "execution_count": 12
        }
      ]
    },
    {
      "cell_type": "code",
      "source": [
        "np.expand_dims(arr1, axis=0)"
      ],
      "metadata": {
        "colab": {
          "base_uri": "https://localhost:8080/"
        },
        "id": "oiFUA7SoHJ-E",
        "outputId": "11015a80-dd74-4895-992a-86c0ebdeaa32"
      },
      "execution_count": 14,
      "outputs": [
        {
          "output_type": "execute_result",
          "data": {
            "text/plain": [
              "array([[1, 2, 3, 3, 4]])"
            ]
          },
          "metadata": {},
          "execution_count": 14
        }
      ]
    },
    {
      "cell_type": "code",
      "source": [
        "arr"
      ],
      "metadata": {
        "colab": {
          "base_uri": "https://localhost:8080/"
        },
        "id": "EDJjoqp4HJ6R",
        "outputId": "5230514f-32c6-4b5c-d6ed-492c4fae0815"
      },
      "execution_count": 16,
      "outputs": [
        {
          "output_type": "execute_result",
          "data": {
            "text/plain": [
              "array([[4, 9, 4, 4],\n",
              "       [5, 1, 3, 9],\n",
              "       [2, 1, 1, 8]])"
            ]
          },
          "metadata": {},
          "execution_count": 16
        }
      ]
    },
    {
      "cell_type": "code",
      "source": [
        "np.squeeze(arr)"
      ],
      "metadata": {
        "colab": {
          "base_uri": "https://localhost:8080/"
        },
        "id": "HeWq96CLHJ4H",
        "outputId": "4b09fdc0-b3a1-4c4c-fab1-c147c2a01388"
      },
      "execution_count": 17,
      "outputs": [
        {
          "output_type": "execute_result",
          "data": {
            "text/plain": [
              "array([[4, 9, 4, 4],\n",
              "       [5, 1, 3, 9],\n",
              "       [2, 1, 1, 8]])"
            ]
          },
          "metadata": {},
          "execution_count": 17
        }
      ]
    },
    {
      "cell_type": "code",
      "source": [],
      "metadata": {
        "id": "MDYgu8ZqHJ2N"
      },
      "execution_count": null,
      "outputs": []
    },
    {
      "cell_type": "code",
      "source": [],
      "metadata": {
        "id": "koDYK70RHJ0G"
      },
      "execution_count": null,
      "outputs": []
    },
    {
      "cell_type": "code",
      "source": [
        "data = np.array([[1],[2],[3]])"
      ],
      "metadata": {
        "id": "SK9IlpGgHJyQ"
      },
      "execution_count": 18,
      "outputs": []
    },
    {
      "cell_type": "code",
      "source": [
        "data"
      ],
      "metadata": {
        "colab": {
          "base_uri": "https://localhost:8080/"
        },
        "id": "jRBCvZkKHJwG",
        "outputId": "93b0fc9e-702e-40c5-c8d7-b3b8cbf7c521"
      },
      "execution_count": 19,
      "outputs": [
        {
          "output_type": "execute_result",
          "data": {
            "text/plain": [
              "array([[1],\n",
              "       [2],\n",
              "       [3]])"
            ]
          },
          "metadata": {},
          "execution_count": 19
        }
      ]
    },
    {
      "cell_type": "code",
      "source": [
        "np.squeeze(data)  # sqeeze one column ke data ko one dimension me convert karta hai"
      ],
      "metadata": {
        "id": "tOR_PjM7HIFl"
      },
      "execution_count": null,
      "outputs": []
    },
    {
      "cell_type": "code",
      "source": [],
      "metadata": {
        "id": "iCiNlS4ZI1w8"
      },
      "execution_count": null,
      "outputs": []
    },
    {
      "cell_type": "code",
      "source": [
        "arr1"
      ],
      "metadata": {
        "colab": {
          "base_uri": "https://localhost:8080/"
        },
        "id": "l8VsASG7I1tz",
        "outputId": "3ad5d037-a72f-40a2-eae9-1c2c1f4f95cd"
      },
      "execution_count": 20,
      "outputs": [
        {
          "output_type": "execute_result",
          "data": {
            "text/plain": [
              "array([1, 2, 3, 3, 4])"
            ]
          },
          "metadata": {},
          "execution_count": 20
        }
      ]
    },
    {
      "cell_type": "code",
      "source": [
        "np.repeat(arr1,3)  # repeate element ko repeate karta hai"
      ],
      "metadata": {
        "colab": {
          "base_uri": "https://localhost:8080/"
        },
        "id": "xLc4DKXTI1rt",
        "outputId": "60b3febb-35f8-4e7e-f573-650fa368686f"
      },
      "execution_count": 21,
      "outputs": [
        {
          "output_type": "execute_result",
          "data": {
            "text/plain": [
              "array([1, 1, 1, 2, 2, 2, 3, 3, 3, 3, 3, 3, 4, 4, 4])"
            ]
          },
          "metadata": {},
          "execution_count": 21
        }
      ]
    },
    {
      "cell_type": "code",
      "source": [
        "np.roll"
      ],
      "metadata": {
        "id": "DdoW1SztI1pk"
      },
      "execution_count": null,
      "outputs": []
    },
    {
      "cell_type": "code",
      "source": [],
      "metadata": {
        "id": "3y3A1JbrI1nQ"
      },
      "execution_count": null,
      "outputs": []
    },
    {
      "cell_type": "code",
      "source": [
        "np.roll(arr1,2)  # roll array ka element ko ghumata hai ex. 2 ka matlab hai 2 place rocate karna"
      ],
      "metadata": {
        "colab": {
          "base_uri": "https://localhost:8080/"
        },
        "id": "kgUbYLKYI1j2",
        "outputId": "22b4e195-b4c7-4289-fe5e-1cbd49abe17f"
      },
      "execution_count": 22,
      "outputs": [
        {
          "output_type": "execute_result",
          "data": {
            "text/plain": [
              "array([3, 4, 1, 2, 3])"
            ]
          },
          "metadata": {},
          "execution_count": 22
        }
      ]
    },
    {
      "cell_type": "code",
      "source": [
        "np.roll(arr1,3)"
      ],
      "metadata": {
        "colab": {
          "base_uri": "https://localhost:8080/"
        },
        "id": "Jg7_f5LaI1h5",
        "outputId": "2cd6ee72-35b7-449f-a34f-741c6548680d"
      },
      "execution_count": 23,
      "outputs": [
        {
          "output_type": "execute_result",
          "data": {
            "text/plain": [
              "array([3, 3, 4, 1, 2])"
            ]
          },
          "metadata": {},
          "execution_count": 23
        }
      ]
    },
    {
      "cell_type": "code",
      "source": [],
      "metadata": {
        "id": "5QNuhrnFI1fv"
      },
      "execution_count": null,
      "outputs": []
    },
    {
      "cell_type": "code",
      "source": [
        "np.diag(arr1) # ye one dimension array ko diagonal me rakh deta hai"
      ],
      "metadata": {
        "colab": {
          "base_uri": "https://localhost:8080/"
        },
        "id": "f55lRnlDI1dy",
        "outputId": "d836e1a8-7299-41f8-c200-ae95a0f27ac3"
      },
      "execution_count": 24,
      "outputs": [
        {
          "output_type": "execute_result",
          "data": {
            "text/plain": [
              "array([[1, 0, 0, 0, 0],\n",
              "       [0, 2, 0, 0, 0],\n",
              "       [0, 0, 3, 0, 0],\n",
              "       [0, 0, 0, 3, 0],\n",
              "       [0, 0, 0, 0, 4]])"
            ]
          },
          "metadata": {},
          "execution_count": 24
        }
      ]
    },
    {
      "cell_type": "code",
      "source": [],
      "metadata": {
        "id": "vnwm7uHkI1cE"
      },
      "execution_count": null,
      "outputs": []
    },
    {
      "cell_type": "code",
      "source": [],
      "metadata": {
        "id": "xPLwsXHQI1Zt"
      },
      "execution_count": null,
      "outputs": []
    },
    {
      "cell_type": "markdown",
      "source": [
        "# Numpy - Binary Operation"
      ],
      "metadata": {
        "id": "li27cYRuMT2b"
      }
    },
    {
      "cell_type": "code",
      "source": [
        "arr1 = np.random.randint(1,10, (3,4))"
      ],
      "metadata": {
        "id": "c7Q3_0D4I1XX"
      },
      "execution_count": 25,
      "outputs": []
    },
    {
      "cell_type": "code",
      "source": [
        "arr1"
      ],
      "metadata": {
        "colab": {
          "base_uri": "https://localhost:8080/"
        },
        "id": "ZN69DqZcMalK",
        "outputId": "dfdc3436-dd0b-4ca4-ec36-cd558b09fc69"
      },
      "execution_count": 26,
      "outputs": [
        {
          "output_type": "execute_result",
          "data": {
            "text/plain": [
              "array([[1, 9, 6, 1],\n",
              "       [7, 3, 8, 9],\n",
              "       [2, 8, 6, 9]])"
            ]
          },
          "metadata": {},
          "execution_count": 26
        }
      ]
    },
    {
      "cell_type": "code",
      "source": [
        "arr2 = np.random.randint(1,10, (3,4))"
      ],
      "metadata": {
        "id": "-giRQz17MaiC"
      },
      "execution_count": 27,
      "outputs": []
    },
    {
      "cell_type": "code",
      "source": [
        "arr2"
      ],
      "metadata": {
        "colab": {
          "base_uri": "https://localhost:8080/"
        },
        "id": "PwND1eeuMaf-",
        "outputId": "486e4742-89bf-4134-ff98-ad91eb001396"
      },
      "execution_count": 28,
      "outputs": [
        {
          "output_type": "execute_result",
          "data": {
            "text/plain": [
              "array([[3, 4, 2, 3],\n",
              "       [7, 2, 4, 3],\n",
              "       [6, 7, 2, 5]])"
            ]
          },
          "metadata": {},
          "execution_count": 28
        }
      ]
    },
    {
      "cell_type": "code",
      "source": [
        "arr1+arr2"
      ],
      "metadata": {
        "colab": {
          "base_uri": "https://localhost:8080/"
        },
        "id": "0gD2D1TBMadp",
        "outputId": "904b5418-5d00-4663-e0b7-fefcb9820722"
      },
      "execution_count": 29,
      "outputs": [
        {
          "output_type": "execute_result",
          "data": {
            "text/plain": [
              "array([[ 4, 13,  8,  4],\n",
              "       [14,  5, 12, 12],\n",
              "       [ 8, 15,  8, 14]])"
            ]
          },
          "metadata": {},
          "execution_count": 29
        }
      ]
    },
    {
      "cell_type": "code",
      "source": [
        "arr1-arr2"
      ],
      "metadata": {
        "colab": {
          "base_uri": "https://localhost:8080/"
        },
        "id": "u3bUHBCnMabo",
        "outputId": "c3342ea4-752a-42f8-aa5a-f649de09e3cb"
      },
      "execution_count": 30,
      "outputs": [
        {
          "output_type": "execute_result",
          "data": {
            "text/plain": [
              "array([[-2,  5,  4, -2],\n",
              "       [ 0,  1,  4,  6],\n",
              "       [-4,  1,  4,  4]])"
            ]
          },
          "metadata": {},
          "execution_count": 30
        }
      ]
    },
    {
      "cell_type": "code",
      "source": [
        "arr1/arr2"
      ],
      "metadata": {
        "colab": {
          "base_uri": "https://localhost:8080/"
        },
        "id": "UmhISa0cMaZs",
        "outputId": "0354789d-441b-4fb9-e434-a71fc2ba5b93"
      },
      "execution_count": 31,
      "outputs": [
        {
          "output_type": "execute_result",
          "data": {
            "text/plain": [
              "array([[0.33333333, 2.25      , 3.        , 0.33333333],\n",
              "       [1.        , 1.5       , 2.        , 3.        ],\n",
              "       [0.33333333, 1.14285714, 3.        , 1.8       ]])"
            ]
          },
          "metadata": {},
          "execution_count": 31
        }
      ]
    },
    {
      "cell_type": "code",
      "source": [
        "arr1*arr2"
      ],
      "metadata": {
        "colab": {
          "base_uri": "https://localhost:8080/"
        },
        "id": "jvgS2L9dMaXt",
        "outputId": "da3ad2da-2782-4197-c871-1a5c48a838c8"
      },
      "execution_count": 32,
      "outputs": [
        {
          "output_type": "execute_result",
          "data": {
            "text/plain": [
              "array([[ 3, 36, 12,  3],\n",
              "       [49,  6, 32, 27],\n",
              "       [12, 56, 12, 45]])"
            ]
          },
          "metadata": {},
          "execution_count": 32
        }
      ]
    },
    {
      "cell_type": "code",
      "source": [
        "arr1%arr2"
      ],
      "metadata": {
        "colab": {
          "base_uri": "https://localhost:8080/"
        },
        "id": "PVMPs_8NMaV5",
        "outputId": "342fb648-cea2-4d28-9605-f917aa0cb7df"
      },
      "execution_count": 33,
      "outputs": [
        {
          "output_type": "execute_result",
          "data": {
            "text/plain": [
              "array([[1, 1, 0, 1],\n",
              "       [0, 1, 0, 0],\n",
              "       [2, 1, 0, 4]])"
            ]
          },
          "metadata": {},
          "execution_count": 33
        }
      ]
    },
    {
      "cell_type": "code",
      "source": [
        "arr1**arr2"
      ],
      "metadata": {
        "colab": {
          "base_uri": "https://localhost:8080/"
        },
        "id": "urXoBqVqMaT8",
        "outputId": "d3f465e4-d53c-40bd-b197-aa04000e9a9a"
      },
      "execution_count": 35,
      "outputs": [
        {
          "output_type": "execute_result",
          "data": {
            "text/plain": [
              "array([[      1,    6561,      36,       1],\n",
              "       [ 823543,       9,    4096,     729],\n",
              "       [     64, 2097152,      36,   59049]])"
            ]
          },
          "metadata": {},
          "execution_count": 35
        }
      ]
    },
    {
      "cell_type": "code",
      "source": [
        "arr1 & arr2"
      ],
      "metadata": {
        "colab": {
          "base_uri": "https://localhost:8080/"
        },
        "id": "aDc1rAEtMw9F",
        "outputId": "a718bcf8-c750-4aef-8ea7-ae988763b4b2"
      },
      "execution_count": 36,
      "outputs": [
        {
          "output_type": "execute_result",
          "data": {
            "text/plain": [
              "array([[1, 0, 2, 1],\n",
              "       [7, 2, 0, 1],\n",
              "       [2, 0, 2, 1]])"
            ]
          },
          "metadata": {},
          "execution_count": 36
        }
      ]
    },
    {
      "cell_type": "code",
      "source": [
        "arr1"
      ],
      "metadata": {
        "colab": {
          "base_uri": "https://localhost:8080/"
        },
        "id": "RHUTt264Mw5_",
        "outputId": "b3a79f7f-bafd-4935-e417-467278772cf9"
      },
      "execution_count": 37,
      "outputs": [
        {
          "output_type": "execute_result",
          "data": {
            "text/plain": [
              "array([[1, 9, 6, 1],\n",
              "       [7, 3, 8, 9],\n",
              "       [2, 8, 6, 9]])"
            ]
          },
          "metadata": {},
          "execution_count": 37
        }
      ]
    },
    {
      "cell_type": "code",
      "source": [
        "arr2"
      ],
      "metadata": {
        "colab": {
          "base_uri": "https://localhost:8080/"
        },
        "id": "Ccp9X8BgMw4h",
        "outputId": "55efe816-36bc-49e1-851c-5b2b10eed94b"
      },
      "execution_count": 38,
      "outputs": [
        {
          "output_type": "execute_result",
          "data": {
            "text/plain": [
              "array([[3, 4, 2, 3],\n",
              "       [7, 2, 4, 3],\n",
              "       [6, 7, 2, 5]])"
            ]
          },
          "metadata": {},
          "execution_count": 38
        }
      ]
    },
    {
      "cell_type": "code",
      "source": [
        "~arr1  # this is negate operation"
      ],
      "metadata": {
        "colab": {
          "base_uri": "https://localhost:8080/"
        },
        "id": "HMnqE3UQMw2N",
        "outputId": "1be32971-5d6e-4bb5-8679-380719d8e194"
      },
      "execution_count": 39,
      "outputs": [
        {
          "output_type": "execute_result",
          "data": {
            "text/plain": [
              "array([[ -2, -10,  -7,  -2],\n",
              "       [ -8,  -4,  -9, -10],\n",
              "       [ -3,  -9,  -7, -10]])"
            ]
          },
          "metadata": {},
          "execution_count": 39
        }
      ]
    },
    {
      "cell_type": "code",
      "source": [
        "arr1|arr2  # this is or operatoe"
      ],
      "metadata": {
        "colab": {
          "base_uri": "https://localhost:8080/"
        },
        "id": "FNXSfPFTMw0G",
        "outputId": "3e861fdb-526a-4ac9-cc08-1bbb4a2cb58a"
      },
      "execution_count": 40,
      "outputs": [
        {
          "output_type": "execute_result",
          "data": {
            "text/plain": [
              "array([[ 3, 13,  6,  3],\n",
              "       [ 7,  3, 12, 11],\n",
              "       [ 6, 15,  6, 13]])"
            ]
          },
          "metadata": {},
          "execution_count": 40
        }
      ]
    },
    {
      "cell_type": "code",
      "source": [
        "arr1>arr2"
      ],
      "metadata": {
        "colab": {
          "base_uri": "https://localhost:8080/"
        },
        "id": "Q8nmhc9hMwyL",
        "outputId": "9ac13e83-b5f3-445e-8aa0-0d426ebf9a80"
      },
      "execution_count": 42,
      "outputs": [
        {
          "output_type": "execute_result",
          "data": {
            "text/plain": [
              "array([[False,  True,  True, False],\n",
              "       [False,  True,  True,  True],\n",
              "       [False,  True,  True,  True]])"
            ]
          },
          "metadata": {},
          "execution_count": 42
        }
      ]
    },
    {
      "cell_type": "code",
      "source": [],
      "metadata": {
        "id": "HkYPW10OMwux"
      },
      "execution_count": null,
      "outputs": []
    },
    {
      "cell_type": "code",
      "source": [],
      "metadata": {
        "id": "srDj6rImNX_q"
      },
      "execution_count": null,
      "outputs": []
    },
    {
      "cell_type": "markdown",
      "source": [
        "# Numpy - String Function"
      ],
      "metadata": {
        "id": "WyotBvl9NbfB"
      }
    },
    {
      "cell_type": "code",
      "source": [
        "np.array(['ayush', 'kumar'])"
      ],
      "metadata": {
        "colab": {
          "base_uri": "https://localhost:8080/"
        },
        "id": "CYk_EzQwNX8X",
        "outputId": "bb141cf8-4005-42fc-cbf9-ae4b539912c6"
      },
      "execution_count": 43,
      "outputs": [
        {
          "output_type": "execute_result",
          "data": {
            "text/plain": [
              "array(['ayush', 'kumar'], dtype='<U5')"
            ]
          },
          "metadata": {},
          "execution_count": 43
        }
      ]
    },
    {
      "cell_type": "code",
      "source": [
        "arr = np.array(['ayush', 'kumar'])"
      ],
      "metadata": {
        "id": "9TZm9svpNX6h"
      },
      "execution_count": 44,
      "outputs": []
    },
    {
      "cell_type": "code",
      "source": [
        "arr"
      ],
      "metadata": {
        "colab": {
          "base_uri": "https://localhost:8080/"
        },
        "id": "KNXRQSX3NX4d",
        "outputId": "c1d27efd-c449-40b4-c8dd-efca23e577b9"
      },
      "execution_count": 45,
      "outputs": [
        {
          "output_type": "execute_result",
          "data": {
            "text/plain": [
              "array(['ayush', 'kumar'], dtype='<U5')"
            ]
          },
          "metadata": {},
          "execution_count": 45
        }
      ]
    },
    {
      "cell_type": "code",
      "source": [
        "np.char.upper(arr)"
      ],
      "metadata": {
        "colab": {
          "base_uri": "https://localhost:8080/"
        },
        "id": "NSAhauVfNX2j",
        "outputId": "cf9f0333-9cda-4fa7-fdc1-7ea7e29b23d1"
      },
      "execution_count": 46,
      "outputs": [
        {
          "output_type": "execute_result",
          "data": {
            "text/plain": [
              "array(['AYUSH', 'KUMAR'], dtype='<U5')"
            ]
          },
          "metadata": {},
          "execution_count": 46
        }
      ]
    },
    {
      "cell_type": "code",
      "source": [
        "np.char.title(arr)"
      ],
      "metadata": {
        "colab": {
          "base_uri": "https://localhost:8080/"
        },
        "id": "W7OzzO83NX0n",
        "outputId": "cbc3ec50-c012-4fee-b224-85b19d92373f"
      },
      "execution_count": 47,
      "outputs": [
        {
          "output_type": "execute_result",
          "data": {
            "text/plain": [
              "array(['Ayush', 'Kumar'], dtype='<U5')"
            ]
          },
          "metadata": {},
          "execution_count": 47
        }
      ]
    },
    {
      "cell_type": "code",
      "source": [
        "np.char.capitalize(arr)"
      ],
      "metadata": {
        "colab": {
          "base_uri": "https://localhost:8080/"
        },
        "id": "f23Ne6urNXxL",
        "outputId": "af62a18e-c228-481e-d3c5-a4d2d7969165"
      },
      "execution_count": 49,
      "outputs": [
        {
          "output_type": "execute_result",
          "data": {
            "text/plain": [
              "array(['Ayush', 'Kumar'], dtype='<U5')"
            ]
          },
          "metadata": {},
          "execution_count": 49
        }
      ]
    },
    {
      "cell_type": "code",
      "source": [],
      "metadata": {
        "id": "R-VSmwAtOJDG"
      },
      "execution_count": null,
      "outputs": []
    },
    {
      "cell_type": "markdown",
      "source": [
        "# Numpy - Mathematical Function."
      ],
      "metadata": {
        "id": "kirHWkX8ORWN"
      }
    },
    {
      "cell_type": "code",
      "source": [
        "arr1"
      ],
      "metadata": {
        "colab": {
          "base_uri": "https://localhost:8080/"
        },
        "id": "Yc26-DovOI_k",
        "outputId": "d38f7883-0924-4938-ba6a-272f8170c1ae"
      },
      "execution_count": 50,
      "outputs": [
        {
          "output_type": "execute_result",
          "data": {
            "text/plain": [
              "array([[1, 9, 6, 1],\n",
              "       [7, 3, 8, 9],\n",
              "       [2, 8, 6, 9]])"
            ]
          },
          "metadata": {},
          "execution_count": 50
        }
      ]
    },
    {
      "cell_type": "code",
      "source": [
        "np.sin(arr1)"
      ],
      "metadata": {
        "colab": {
          "base_uri": "https://localhost:8080/"
        },
        "id": "DZBGiVX0OI9m",
        "outputId": "9bb94ae5-5f8f-47b9-cd13-e6c1b46a120f"
      },
      "execution_count": 51,
      "outputs": [
        {
          "output_type": "execute_result",
          "data": {
            "text/plain": [
              "array([[ 0.84147098,  0.41211849, -0.2794155 ,  0.84147098],\n",
              "       [ 0.6569866 ,  0.14112001,  0.98935825,  0.41211849],\n",
              "       [ 0.90929743,  0.98935825, -0.2794155 ,  0.41211849]])"
            ]
          },
          "metadata": {},
          "execution_count": 51
        }
      ]
    },
    {
      "cell_type": "code",
      "source": [
        "np.cos(arr1)"
      ],
      "metadata": {
        "colab": {
          "base_uri": "https://localhost:8080/"
        },
        "id": "SOBrASiWOI7w",
        "outputId": "1af60529-553e-4921-9594-557e183b5092"
      },
      "execution_count": 52,
      "outputs": [
        {
          "output_type": "execute_result",
          "data": {
            "text/plain": [
              "array([[ 0.54030231, -0.91113026,  0.96017029,  0.54030231],\n",
              "       [ 0.75390225, -0.9899925 , -0.14550003, -0.91113026],\n",
              "       [-0.41614684, -0.14550003,  0.96017029, -0.91113026]])"
            ]
          },
          "metadata": {},
          "execution_count": 52
        }
      ]
    },
    {
      "cell_type": "code",
      "source": [
        "np.tan(arr1)"
      ],
      "metadata": {
        "colab": {
          "base_uri": "https://localhost:8080/"
        },
        "id": "lH1VM4kcOI53",
        "outputId": "b42179f3-8d96-4a10-fa16-12ca2d0beeca"
      },
      "execution_count": 53,
      "outputs": [
        {
          "output_type": "execute_result",
          "data": {
            "text/plain": [
              "array([[ 1.55740772, -0.45231566, -0.29100619,  1.55740772],\n",
              "       [ 0.87144798, -0.14254654, -6.79971146, -0.45231566],\n",
              "       [-2.18503986, -6.79971146, -0.29100619, -0.45231566]])"
            ]
          },
          "metadata": {},
          "execution_count": 53
        }
      ]
    },
    {
      "cell_type": "code",
      "source": [
        "np.tanh(arr1)"
      ],
      "metadata": {
        "colab": {
          "base_uri": "https://localhost:8080/"
        },
        "id": "UPtqQ4HyOI33",
        "outputId": "4cd2353b-df8c-4210-df7f-82cfcc5dfa77"
      },
      "execution_count": 54,
      "outputs": [
        {
          "output_type": "execute_result",
          "data": {
            "text/plain": [
              "array([[0.76159416, 0.99999997, 0.99998771, 0.76159416],\n",
              "       [0.99999834, 0.99505475, 0.99999977, 0.99999997],\n",
              "       [0.96402758, 0.99999977, 0.99998771, 0.99999997]])"
            ]
          },
          "metadata": {},
          "execution_count": 54
        }
      ]
    },
    {
      "cell_type": "code",
      "source": [
        "np.log10(arr1)"
      ],
      "metadata": {
        "colab": {
          "base_uri": "https://localhost:8080/"
        },
        "id": "_9z4VLzIOI1z",
        "outputId": "15fd5a4d-bc9a-4516-b114-a340bd33b3f2"
      },
      "execution_count": 55,
      "outputs": [
        {
          "output_type": "execute_result",
          "data": {
            "text/plain": [
              "array([[0.        , 0.95424251, 0.77815125, 0.        ],\n",
              "       [0.84509804, 0.47712125, 0.90308999, 0.95424251],\n",
              "       [0.30103   , 0.90308999, 0.77815125, 0.95424251]])"
            ]
          },
          "metadata": {},
          "execution_count": 55
        }
      ]
    },
    {
      "cell_type": "code",
      "source": [
        "np.exp(arr1)"
      ],
      "metadata": {
        "colab": {
          "base_uri": "https://localhost:8080/"
        },
        "id": "p9Dm5lasOIzu",
        "outputId": "e9bac42a-6c59-456a-ea29-5939f02d9099"
      },
      "execution_count": 56,
      "outputs": [
        {
          "output_type": "execute_result",
          "data": {
            "text/plain": [
              "array([[2.71828183e+00, 8.10308393e+03, 4.03428793e+02, 2.71828183e+00],\n",
              "       [1.09663316e+03, 2.00855369e+01, 2.98095799e+03, 8.10308393e+03],\n",
              "       [7.38905610e+00, 2.98095799e+03, 4.03428793e+02, 8.10308393e+03]])"
            ]
          },
          "metadata": {},
          "execution_count": 56
        }
      ]
    },
    {
      "cell_type": "code",
      "source": [
        "np.sqrt(arr1)"
      ],
      "metadata": {
        "colab": {
          "base_uri": "https://localhost:8080/"
        },
        "id": "TbilakywOIxx",
        "outputId": "221b7b69-afb2-45cb-e525-028575a585e6"
      },
      "execution_count": 58,
      "outputs": [
        {
          "output_type": "execute_result",
          "data": {
            "text/plain": [
              "array([[1.        , 3.        , 2.44948974, 1.        ],\n",
              "       [2.64575131, 1.73205081, 2.82842712, 3.        ],\n",
              "       [1.41421356, 2.82842712, 2.44948974, 3.        ]])"
            ]
          },
          "metadata": {},
          "execution_count": 58
        }
      ]
    },
    {
      "cell_type": "code",
      "source": [
        "np.power(arr1,2)"
      ],
      "metadata": {
        "colab": {
          "base_uri": "https://localhost:8080/"
        },
        "id": "fwu37191O5x3",
        "outputId": "d8abf9e2-4542-477e-eb8e-32810f8fee94"
      },
      "execution_count": 60,
      "outputs": [
        {
          "output_type": "execute_result",
          "data": {
            "text/plain": [
              "array([[ 1, 81, 36,  1],\n",
              "       [49,  9, 64, 81],\n",
              "       [ 4, 64, 36, 81]])"
            ]
          },
          "metadata": {},
          "execution_count": 60
        }
      ]
    },
    {
      "cell_type": "code",
      "source": [
        "np.mean(arr1)"
      ],
      "metadata": {
        "colab": {
          "base_uri": "https://localhost:8080/"
        },
        "id": "Kq5QPayiPAYq",
        "outputId": "d0deb179-7846-4363-8b6e-ad38371cc489"
      },
      "execution_count": 61,
      "outputs": [
        {
          "output_type": "execute_result",
          "data": {
            "text/plain": [
              "np.float64(5.75)"
            ]
          },
          "metadata": {},
          "execution_count": 61
        }
      ]
    },
    {
      "cell_type": "code",
      "source": [
        "np.median(arr1)"
      ],
      "metadata": {
        "colab": {
          "base_uri": "https://localhost:8080/"
        },
        "id": "eZpaTDadPFwc",
        "outputId": "30bc4184-220a-4fbe-e545-cd674afc40ff"
      },
      "execution_count": 62,
      "outputs": [
        {
          "output_type": "execute_result",
          "data": {
            "text/plain": [
              "np.float64(6.5)"
            ]
          },
          "metadata": {},
          "execution_count": 62
        }
      ]
    },
    {
      "cell_type": "code",
      "source": [
        "np.std(arr1)"
      ],
      "metadata": {
        "colab": {
          "base_uri": "https://localhost:8080/"
        },
        "id": "AuEthA03PJyY",
        "outputId": "8085e673-651b-4e15-d35d-c865cc4ef4e6"
      },
      "execution_count": 63,
      "outputs": [
        {
          "output_type": "execute_result",
          "data": {
            "text/plain": [
              "np.float64(3.031088913245535)"
            ]
          },
          "metadata": {},
          "execution_count": 63
        }
      ]
    },
    {
      "cell_type": "code",
      "source": [
        "np.var(arr1)"
      ],
      "metadata": {
        "colab": {
          "base_uri": "https://localhost:8080/"
        },
        "id": "R4O7eaw3PNxv",
        "outputId": "9a77fb85-28b2-4176-d81f-dbcdf058c0fa"
      },
      "execution_count": 64,
      "outputs": [
        {
          "output_type": "execute_result",
          "data": {
            "text/plain": [
              "np.float64(9.1875)"
            ]
          },
          "metadata": {},
          "execution_count": 64
        }
      ]
    },
    {
      "cell_type": "code",
      "source": [
        "np.min(arr1)"
      ],
      "metadata": {
        "colab": {
          "base_uri": "https://localhost:8080/"
        },
        "id": "sroHFKxMPSqE",
        "outputId": "6a1c5ace-4cd8-4710-fcfd-38342cebfbee"
      },
      "execution_count": 66,
      "outputs": [
        {
          "output_type": "execute_result",
          "data": {
            "text/plain": [
              "np.int64(1)"
            ]
          },
          "metadata": {},
          "execution_count": 66
        }
      ]
    },
    {
      "cell_type": "code",
      "source": [
        "np.max(arr1)"
      ],
      "metadata": {
        "colab": {
          "base_uri": "https://localhost:8080/"
        },
        "id": "NZYiwKzEPVWX",
        "outputId": "cec2d5ed-f980-4794-8e54-a648876137d9"
      },
      "execution_count": 67,
      "outputs": [
        {
          "output_type": "execute_result",
          "data": {
            "text/plain": [
              "np.int64(9)"
            ]
          },
          "metadata": {},
          "execution_count": 67
        }
      ]
    },
    {
      "cell_type": "code",
      "source": [],
      "metadata": {
        "id": "eyhdNp1dPZci"
      },
      "execution_count": null,
      "outputs": []
    }
  ]
}